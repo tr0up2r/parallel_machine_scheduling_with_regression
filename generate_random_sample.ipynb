{
 "cells": [
  {
   "cell_type": "code",
   "execution_count": 7,
   "id": "81eedc50",
   "metadata": {},
   "outputs": [],
   "source": [
    "import random\n",
    "import csv\n",
    "import os\n",
    "\n",
    "\n",
    "def generate(n, m):\n",
    "    data = []\n",
    "    for i in range(n):\n",
    "        Task = []\n",
    "        for j in range(m):\n",
    "            Task.append(int(random.uniform(1, 100)))\n",
    "        data.append(Task)\n",
    "\n",
    "    return data\n",
    "\n",
    "\n",
    "def save_csv(data, save_path):\n",
    "    with open(save_path, 'w', newline='') as f:\n",
    "        wr = csv.writer(f)\n",
    "        wr.writerows(data)\n",
    "\n",
    "\n",
    "def main(cnt):\n",
    "    types = [(20, 5), (40, 5), (80, 5), (50, 2), (50, 4), (50, 8)]\n",
    "\n",
    "    for numbers in types:\n",
    "        save_path = f'./all_data_100_train'\n",
    "        new_dir = os.path.join(save_path)\n",
    "        os.makedirs(new_dir, exist_ok=True)\n",
    "        for i in range(cnt):\n",
    "            data = generate(numbers[0], numbers[1])\n",
    "            save_csv(data, os.path.join(new_dir, f't{numbers[1]}x{numbers[0]}-{i+1}.csv'))"
   ]
  },
  {
   "cell_type": "code",
   "execution_count": 8,
   "id": "a038d1d8",
   "metadata": {},
   "outputs": [],
   "source": [
    "main(100)"
   ]
  },
  {
   "cell_type": "code",
   "execution_count": null,
   "id": "79985707",
   "metadata": {},
   "outputs": [],
   "source": []
  }
 ],
 "metadata": {
  "kernelspec": {
   "display_name": "Python 3 (ipykernel)",
   "language": "python",
   "name": "python3"
  },
  "language_info": {
   "codemirror_mode": {
    "name": "ipython",
    "version": 3
   },
   "file_extension": ".py",
   "mimetype": "text/x-python",
   "name": "python",
   "nbconvert_exporter": "python",
   "pygments_lexer": "ipython3",
   "version": "3.8.10"
  }
 },
 "nbformat": 4,
 "nbformat_minor": 5
}
